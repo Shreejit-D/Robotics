{
 "cells": [
  {
   "cell_type": "code",
   "execution_count": 1,
   "id": "3695c1ad",
   "metadata": {},
   "outputs": [],
   "source": [
    "import bagpy\n",
    "from bagpy import bagreader\n",
    "import pandas as pd\n",
    "import seaborn as sea\n",
    "import matplotlib.pyplot as plt\n",
    "import numpy as np"
   ]
  },
  {
   "cell_type": "code",
   "execution_count": 3,
   "id": "6388f310",
   "metadata": {},
   "outputs": [
    {
     "name": "stdout",
     "output_type": "stream",
     "text": [
      "[INFO]  Data folder /home/shreejit/Desktop/eece5554/LAB1/src/data/stationary_data already exists. Not creating.\n"
     ]
    }
   ],
   "source": [
    "data_set = bagreader('/home/shreejit/Desktop/eece5554/LAB1/src/data/stationary_data.bag')"
   ]
  },
  {
   "cell_type": "code",
   "execution_count": 3,
   "id": "30fbc505",
   "metadata": {},
   "outputs": [
    {
     "data": {
      "text/html": [
       "<div>\n",
       "<style scoped>\n",
       "    .dataframe tbody tr th:only-of-type {\n",
       "        vertical-align: middle;\n",
       "    }\n",
       "\n",
       "    .dataframe tbody tr th {\n",
       "        vertical-align: top;\n",
       "    }\n",
       "\n",
       "    .dataframe thead th {\n",
       "        text-align: right;\n",
       "    }\n",
       "</style>\n",
       "<table border=\"1\" class=\"dataframe\">\n",
       "  <thead>\n",
       "    <tr style=\"text-align: right;\">\n",
       "      <th></th>\n",
       "      <th>Topics</th>\n",
       "      <th>Types</th>\n",
       "      <th>Message Count</th>\n",
       "      <th>Frequency</th>\n",
       "    </tr>\n",
       "  </thead>\n",
       "  <tbody>\n",
       "    <tr>\n",
       "      <th>0</th>\n",
       "      <td>/gps</td>\n",
       "      <td>gps_driver/gps_msg</td>\n",
       "      <td>613</td>\n",
       "      <td>1.000096</td>\n",
       "    </tr>\n",
       "  </tbody>\n",
       "</table>\n",
       "</div>"
      ],
      "text/plain": [
       "  Topics               Types  Message Count  Frequency\n",
       "0   /gps  gps_driver/gps_msg            613   1.000096"
      ]
     },
     "execution_count": 3,
     "metadata": {},
     "output_type": "execute_result"
    }
   ],
   "source": [
    "data_set.topic_table"
   ]
  },
  {
   "cell_type": "code",
   "execution_count": 4,
   "id": "4905069e",
   "metadata": {},
   "outputs": [],
   "source": [
    "gps_topic = data_set.message_by_topic(topic = '/gps')\n",
    "gps_df = pd.read_csv(gps_topic)"
   ]
  },
  {
   "cell_type": "code",
   "execution_count": 5,
   "id": "88606fe4",
   "metadata": {},
   "outputs": [
    {
     "data": {
      "text/html": [
       "<div>\n",
       "<style scoped>\n",
       "    .dataframe tbody tr th:only-of-type {\n",
       "        vertical-align: middle;\n",
       "    }\n",
       "\n",
       "    .dataframe tbody tr th {\n",
       "        vertical-align: top;\n",
       "    }\n",
       "\n",
       "    .dataframe thead th {\n",
       "        text-align: right;\n",
       "    }\n",
       "</style>\n",
       "<table border=\"1\" class=\"dataframe\">\n",
       "  <thead>\n",
       "    <tr style=\"text-align: right;\">\n",
       "      <th></th>\n",
       "      <th>Time</th>\n",
       "      <th>Header.seq</th>\n",
       "      <th>Header.stamp.secs</th>\n",
       "      <th>Header.stamp.nsecs</th>\n",
       "      <th>Header.frame_id</th>\n",
       "      <th>Latitude</th>\n",
       "      <th>Longitude</th>\n",
       "      <th>Altitude</th>\n",
       "      <th>UTM_easting</th>\n",
       "      <th>UTM_northing</th>\n",
       "      <th>Zone</th>\n",
       "      <th>Letter</th>\n",
       "    </tr>\n",
       "  </thead>\n",
       "  <tbody>\n",
       "    <tr>\n",
       "      <th>0</th>\n",
       "      <td>1.664201e+09</td>\n",
       "      <td>10</td>\n",
       "      <td>1664212195</td>\n",
       "      <td>0</td>\n",
       "      <td>GPS1_Frame</td>\n",
       "      <td>42.314308</td>\n",
       "      <td>-71.104813</td>\n",
       "      <td>67.099998</td>\n",
       "      <td>326541.09375</td>\n",
       "      <td>4686819.5</td>\n",
       "      <td>19</td>\n",
       "      <td>T</td>\n",
       "    </tr>\n",
       "    <tr>\n",
       "      <th>1</th>\n",
       "      <td>1.664201e+09</td>\n",
       "      <td>11</td>\n",
       "      <td>1664212196</td>\n",
       "      <td>0</td>\n",
       "      <td>GPS1_Frame</td>\n",
       "      <td>42.314308</td>\n",
       "      <td>-71.104813</td>\n",
       "      <td>67.099998</td>\n",
       "      <td>326541.09375</td>\n",
       "      <td>4686819.5</td>\n",
       "      <td>19</td>\n",
       "      <td>T</td>\n",
       "    </tr>\n",
       "    <tr>\n",
       "      <th>2</th>\n",
       "      <td>1.664201e+09</td>\n",
       "      <td>12</td>\n",
       "      <td>1664212197</td>\n",
       "      <td>0</td>\n",
       "      <td>GPS1_Frame</td>\n",
       "      <td>42.314308</td>\n",
       "      <td>-71.104813</td>\n",
       "      <td>67.099998</td>\n",
       "      <td>326541.09375</td>\n",
       "      <td>4686819.5</td>\n",
       "      <td>19</td>\n",
       "      <td>T</td>\n",
       "    </tr>\n",
       "    <tr>\n",
       "      <th>3</th>\n",
       "      <td>1.664201e+09</td>\n",
       "      <td>13</td>\n",
       "      <td>1664212198</td>\n",
       "      <td>0</td>\n",
       "      <td>GPS1_Frame</td>\n",
       "      <td>42.314308</td>\n",
       "      <td>-71.104813</td>\n",
       "      <td>67.099998</td>\n",
       "      <td>326541.09375</td>\n",
       "      <td>4686819.5</td>\n",
       "      <td>19</td>\n",
       "      <td>T</td>\n",
       "    </tr>\n",
       "    <tr>\n",
       "      <th>4</th>\n",
       "      <td>1.664201e+09</td>\n",
       "      <td>14</td>\n",
       "      <td>1664212199</td>\n",
       "      <td>0</td>\n",
       "      <td>GPS1_Frame</td>\n",
       "      <td>42.314308</td>\n",
       "      <td>-71.104813</td>\n",
       "      <td>67.099998</td>\n",
       "      <td>326541.09375</td>\n",
       "      <td>4686819.5</td>\n",
       "      <td>19</td>\n",
       "      <td>T</td>\n",
       "    </tr>\n",
       "  </tbody>\n",
       "</table>\n",
       "</div>"
      ],
      "text/plain": [
       "           Time  Header.seq  Header.stamp.secs  Header.stamp.nsecs  \\\n",
       "0  1.664201e+09          10         1664212195                   0   \n",
       "1  1.664201e+09          11         1664212196                   0   \n",
       "2  1.664201e+09          12         1664212197                   0   \n",
       "3  1.664201e+09          13         1664212198                   0   \n",
       "4  1.664201e+09          14         1664212199                   0   \n",
       "\n",
       "  Header.frame_id   Latitude  Longitude   Altitude   UTM_easting  \\\n",
       "0      GPS1_Frame  42.314308 -71.104813  67.099998  326541.09375   \n",
       "1      GPS1_Frame  42.314308 -71.104813  67.099998  326541.09375   \n",
       "2      GPS1_Frame  42.314308 -71.104813  67.099998  326541.09375   \n",
       "3      GPS1_Frame  42.314308 -71.104813  67.099998  326541.09375   \n",
       "4      GPS1_Frame  42.314308 -71.104813  67.099998  326541.09375   \n",
       "\n",
       "   UTM_northing  Zone Letter  \n",
       "0     4686819.5    19      T  \n",
       "1     4686819.5    19      T  \n",
       "2     4686819.5    19      T  \n",
       "3     4686819.5    19      T  \n",
       "4     4686819.5    19      T  "
      ]
     },
     "execution_count": 5,
     "metadata": {},
     "output_type": "execute_result"
    }
   ],
   "source": [
    "gps_df.head()"
   ]
  },
  {
   "cell_type": "code",
   "execution_count": 7,
   "id": "d9ba2605",
   "metadata": {},
   "outputs": [],
   "source": [
    "#Converting data to numpy arrays for simplicity\n",
    "time_array = gps_df['Time'].to_numpy()\n",
    "lat_array = gps_df['Latitude'].to_numpy()\n",
    "long_array = gps_df['Longitude'].to_numpy()\n",
    "# altitude_array = gp\n",
    "# s_df['Altitude'].to_numpy()\n",
    "easting_array = gps_df['UTM_easting'].to_numpy()\n",
    "northing_array = gps_df['UTM_northing'].to_numpy()\n",
    "time_array = time_array - 1.66420056e+09 + 5 #converting timestamp to start-time"
   ]
  },
  {
   "cell_type": "code",
   "execution_count": 9,
   "id": "fc6179a8",
   "metadata": {},
   "outputs": [
    {
     "data": {
      "text/plain": [
       "[<matplotlib.lines.Line2D at 0x7f243a1017c0>]"
      ]
     },
     "execution_count": 9,
     "metadata": {},
     "output_type": "execute_result"
    },
    {
     "data": {
      "image/png": "[encoded data removed]",
      "text/plain": [
       "<Figure size 640x480 with 1 Axes>"
      ]
     },
     "metadata": {},
     "output_type": "display_data"
    }
   ],
   "source": [
    "#2-Dimensional plot for stationary\n",
    "\n",
    "fig1, ax = plt.subplots()\n",
    "ax.set_xlabel('time in dec-secs')\n",
    "ax.set_ylabel('distance in meters')\n",
    "Northing_error = northing_array-northing_array.mean()\n",
    "# plt.axhline(y=48.775367, color='r', linestyle='-', label='mean')\n",
    "# ax.plot(time_array,lat_array,label='Latitude')\n",
    "# # ax.plot(time_array,long_array,label='Longitude')\n",
    "# ax.plot(time_array,northing_array,label='Northing_reading')\n",
    "# ax.plot(time_array,easting_array,label='Easting_reading')\n",
    "# ax.plot(time_array,altitude_array,label='Altitude')\n",
    "ax.plot(time_array, northing_array)\n",
    "# ax.legend(loc=7)"
   ]
  },
  {
   "cell_type": "code",
   "execution_count": 14,
   "id": "f1a1d8fc",
   "metadata": {},
   "outputs": [
    {
     "data": {
      "text/html": [
       "<div>\n",
       "<style scoped>\n",
       "    .dataframe tbody tr th:only-of-type {\n",
       "        vertical-align: middle;\n",
       "    }\n",
       "\n",
       "    .dataframe tbody tr th {\n",
       "        vertical-align: top;\n",
       "    }\n",
       "\n",
       "    .dataframe thead th {\n",
       "        text-align: right;\n",
       "    }\n",
       "</style>\n",
       "<table border=\"1\" class=\"dataframe\">\n",
       "  <thead>\n",
       "    <tr style=\"text-align: right;\">\n",
       "      <th></th>\n",
       "      <th>Latitude</th>\n",
       "      <th>Longitude</th>\n",
       "      <th>UTM_northing</th>\n",
       "      <th>UTM_easting</th>\n",
       "      <th>Altitude</th>\n",
       "    </tr>\n",
       "  </thead>\n",
       "  <tbody>\n",
       "    <tr>\n",
       "      <th>mean</th>\n",
       "      <td>42.314325</td>\n",
       "      <td>-71.104829</td>\n",
       "      <td>4.686822e+06</td>\n",
       "      <td>326539.841507</td>\n",
       "      <td>48.775367</td>\n",
       "    </tr>\n",
       "    <tr>\n",
       "      <th>skew</th>\n",
       "      <td>-0.345438</td>\n",
       "      <td>-0.448219</td>\n",
       "      <td>-1.125093e-01</td>\n",
       "      <td>-0.265974</td>\n",
       "      <td>1.168010</td>\n",
       "    </tr>\n",
       "    <tr>\n",
       "      <th>std</th>\n",
       "      <td>0.000010</td>\n",
       "      <td>0.000014</td>\n",
       "      <td>1.163705e+00</td>\n",
       "      <td>1.115699</td>\n",
       "      <td>7.661526</td>\n",
       "    </tr>\n",
       "    <tr>\n",
       "      <th>max</th>\n",
       "      <td>42.314339</td>\n",
       "      <td>-71.104805</td>\n",
       "      <td>4.686824e+06</td>\n",
       "      <td>326541.906250</td>\n",
       "      <td>67.099998</td>\n",
       "    </tr>\n",
       "    <tr>\n",
       "      <th>min</th>\n",
       "      <td>42.314301</td>\n",
       "      <td>-71.104858</td>\n",
       "      <td>4.686819e+06</td>\n",
       "      <td>326537.750000</td>\n",
       "      <td>40.799999</td>\n",
       "    </tr>\n",
       "  </tbody>\n",
       "</table>\n",
       "</div>"
      ],
      "text/plain": [
       "       Latitude  Longitude  UTM_northing    UTM_easting   Altitude\n",
       "mean  42.314325 -71.104829  4.686822e+06  326539.841507  48.775367\n",
       "skew  -0.345438  -0.448219 -1.125093e-01      -0.265974   1.168010\n",
       "std    0.000010   0.000014  1.163705e+00       1.115699   7.661526\n",
       "max   42.314339 -71.104805  4.686824e+06  326541.906250  67.099998\n",
       "min   42.314301 -71.104858  4.686819e+06  326537.750000  40.799999"
      ]
     },
     "execution_count": 14,
     "metadata": {},
     "output_type": "execute_result"
    }
   ],
   "source": [
    "#Statistical summary\n",
    "gps_df.agg(\n",
    "\n",
    "    {\n",
    "\n",
    "        \"Latitude\": [\"mean\", \"skew\", \"std\", \"max\", \"min\"],\n",
    "\n",
    "        \"Longitude\": [\"mean\", \"skew\", \"std\", \"max\", \"min\"],\n",
    "        \n",
    "        \"UTM_northing\": [\"mean\", \"skew\", \"std\", \"max\", \"min\"],\n",
    "\n",
    "        \"UTM_easting\": [\"mean\", \"skew\", \"std\", \"max\", \"min\"],\n",
    "        \n",
    "        \"Altitude\": [\"mean\", \"skew\", \"std\", \"max\", \"min\"],\n",
    "\n",
    "    }\n",
    "\n",
    ")"
   ]
  },
  {
   "cell_type": "code",
   "execution_count": 4,
   "id": "c99cc4e4",
   "metadata": {},
   "outputs": [
    {
     "name": "stdout",
     "output_type": "stream",
     "text": [
      "[INFO]  Successfully created the data folder /home/shreejit/Desktop/eece5554/LAB1/src/data/walking_data.\n"
     ]
    }
   ],
   "source": [
    "data_set2 = bagreader('/home/shreejit/Desktop/eece5554/LAB1/src/data/walking_data.bag')"
   ]
  },
  {
   "cell_type": "code",
   "execution_count": 5,
   "id": "43a004f6",
   "metadata": {},
   "outputs": [],
   "source": [
    "gps_topic_w = data_set2.message_by_topic(topic = '/gps')\n",
    "gps_df_w = pd.read_csv(gps_topic_w)"
   ]
  },
  {
   "cell_type": "code",
   "execution_count": 6,
   "id": "69cf7827",
   "metadata": {},
   "outputs": [
    {
     "data": {
      "text/html": [
       "<div>\n",
       "<style scoped>\n",
       "    .dataframe tbody tr th:only-of-type {\n",
       "        vertical-align: middle;\n",
       "    }\n",
       "\n",
       "    .dataframe tbody tr th {\n",
       "        vertical-align: top;\n",
       "    }\n",
       "\n",
       "    .dataframe thead th {\n",
       "        text-align: right;\n",
       "    }\n",
       "</style>\n",
       "<table border=\"1\" class=\"dataframe\">\n",
       "  <thead>\n",
       "    <tr style=\"text-align: right;\">\n",
       "      <th></th>\n",
       "      <th>Time</th>\n",
       "      <th>Header.seq</th>\n",
       "      <th>Header.stamp.secs</th>\n",
       "      <th>Header.stamp.nsecs</th>\n",
       "      <th>Header.frame_id</th>\n",
       "      <th>Latitude</th>\n",
       "      <th>Longitude</th>\n",
       "      <th>Altitude</th>\n",
       "      <th>UTM_easting</th>\n",
       "      <th>UTM_northing</th>\n",
       "      <th>Zone</th>\n",
       "      <th>Letter</th>\n",
       "    </tr>\n",
       "  </thead>\n",
       "  <tbody>\n",
       "    <tr>\n",
       "      <th>0</th>\n",
       "      <td>1.664200e+09</td>\n",
       "      <td>11</td>\n",
       "      <td>1664212160</td>\n",
       "      <td>0</td>\n",
       "      <td>GPS1_Frame</td>\n",
       "      <td>42.312397</td>\n",
       "      <td>-71.101723</td>\n",
       "      <td>73.900002</td>\n",
       "      <td>326790.65625</td>\n",
       "      <td>4686601.5</td>\n",
       "      <td>19</td>\n",
       "      <td>T</td>\n",
       "    </tr>\n",
       "    <tr>\n",
       "      <th>1</th>\n",
       "      <td>1.664200e+09</td>\n",
       "      <td>12</td>\n",
       "      <td>1664212161</td>\n",
       "      <td>0</td>\n",
       "      <td>GPS1_Frame</td>\n",
       "      <td>42.312397</td>\n",
       "      <td>-71.101723</td>\n",
       "      <td>73.300003</td>\n",
       "      <td>326790.50000</td>\n",
       "      <td>4686601.5</td>\n",
       "      <td>19</td>\n",
       "      <td>T</td>\n",
       "    </tr>\n",
       "    <tr>\n",
       "      <th>2</th>\n",
       "      <td>1.664200e+09</td>\n",
       "      <td>13</td>\n",
       "      <td>1664212162</td>\n",
       "      <td>0</td>\n",
       "      <td>GPS1_Frame</td>\n",
       "      <td>42.312389</td>\n",
       "      <td>-71.101730</td>\n",
       "      <td>72.199997</td>\n",
       "      <td>326790.06250</td>\n",
       "      <td>4686600.5</td>\n",
       "      <td>19</td>\n",
       "      <td>T</td>\n",
       "    </tr>\n",
       "    <tr>\n",
       "      <th>3</th>\n",
       "      <td>1.664200e+09</td>\n",
       "      <td>14</td>\n",
       "      <td>1664212163</td>\n",
       "      <td>0</td>\n",
       "      <td>GPS1_Frame</td>\n",
       "      <td>42.312386</td>\n",
       "      <td>-71.101730</td>\n",
       "      <td>71.699997</td>\n",
       "      <td>326789.78125</td>\n",
       "      <td>4686600.0</td>\n",
       "      <td>19</td>\n",
       "      <td>T</td>\n",
       "    </tr>\n",
       "    <tr>\n",
       "      <th>4</th>\n",
       "      <td>1.664200e+09</td>\n",
       "      <td>15</td>\n",
       "      <td>1664212164</td>\n",
       "      <td>0</td>\n",
       "      <td>GPS1_Frame</td>\n",
       "      <td>42.312389</td>\n",
       "      <td>-71.101738</td>\n",
       "      <td>71.900002</td>\n",
       "      <td>326789.25000</td>\n",
       "      <td>4686600.5</td>\n",
       "      <td>19</td>\n",
       "      <td>T</td>\n",
       "    </tr>\n",
       "  </tbody>\n",
       "</table>\n",
       "</div>"
      ],
      "text/plain": [
       "           Time  Header.seq  Header.stamp.secs  Header.stamp.nsecs  \\\n",
       "0  1.664200e+09          11         1664212160                   0   \n",
       "1  1.664200e+09          12         1664212161                   0   \n",
       "2  1.664200e+09          13         1664212162                   0   \n",
       "3  1.664200e+09          14         1664212163                   0   \n",
       "4  1.664200e+09          15         1664212164                   0   \n",
       "\n",
       "  Header.frame_id   Latitude  Longitude   Altitude   UTM_easting  \\\n",
       "0      GPS1_Frame  42.312397 -71.101723  73.900002  326790.65625   \n",
       "1      GPS1_Frame  42.312397 -71.101723  73.300003  326790.50000   \n",
       "2      GPS1_Frame  42.312389 -71.101730  72.199997  326790.06250   \n",
       "3      GPS1_Frame  42.312386 -71.101730  71.699997  326789.78125   \n",
       "4      GPS1_Frame  42.312389 -71.101738  71.900002  326789.25000   \n",
       "\n",
       "   UTM_northing  Zone Letter  \n",
       "0     4686601.5    19      T  \n",
       "1     4686601.5    19      T  \n",
       "2     4686600.5    19      T  \n",
       "3     4686600.0    19      T  \n",
       "4     4686600.5    19      T  "
      ]
     },
     "execution_count": 6,
     "metadata": {},
     "output_type": "execute_result"
    }
   ],
   "source": [
    "gps_df_w.head()"
   ]
  },
  {
   "cell_type": "code",
   "execution_count": 8,
   "id": "7c0f7e94",
   "metadata": {},
   "outputs": [],
   "source": [
    "#Converting data to numpy arrays for simplicity\n",
    "time_array = gps_df_w['Time'].to_numpy()\n",
    "lat_array = gps_df_w['Latitude'].to_numpy()\n",
    "long_array = gps_df_w['Longitude'].to_numpy()\n",
    "altitude_array = gps_df_w['Altitude'].to_numpy()\n",
    "easting_array = gps_df_w['UTM_easting'].to_numpy()\n",
    "northing_array = gps_df_w['UTM_northing'].to_numpy()\n",
    "time_array = time_array - 1.66419974e+09 + 1 #converting timestamp to start-time"
   ]
  },
  {
   "cell_type": "code",
   "execution_count": 11,
   "id": "39cf52ad",
   "metadata": {},
   "outputs": [
    {
     "data": {
      "image/png": "[encoded data removed]",
      "text/plain": [
       "<Figure size 640x480 with 1 Axes>"
      ]
     },
     "metadata": {},
     "output_type": "display_data"
    }
   ],
   "source": [
    "import math\n",
    "#2-Dimensional plot for stationary\n",
    "fig1, ax = plt.subplots()\n",
    "ax.set_xlabel('Time in dec-secs')\n",
    "ax.set_ylabel('Altitude')\n",
    "\n",
    "#Finding best fit line using poly fit ->\n",
    "a, b = np.polyfit(easting_array,northing_array,1)\n",
    "#plots\n",
    "\n",
    "# plt.axhline(y=48.775367, color='r', linestyle='-', label='mean')\n",
    "# ax.plot(time_array,lat_array_norm,label='Latitude')\n",
    "# ax.plot(lat_array_norm, long_array_norm)\n",
    "ax.plot(easting_array,northing_array)\n",
    "ax.plot(easting_array,a*easting_array+b)\n",
    "# plt.axhline(y=48.274834, color='r', linestyle='-', label='mean')\n",
    "# ax.plot(time_array,altitude_array)\n",
    "# ax.plot(time_array,northing_array,label='Northing_reading')\n",
    "# ax.plot(time_array,easting_array,label='Easting_reading')\n",
    "# ax.legend(loc=7)\n",
    "\n",
    "#finding RMSE of our points vs straight line -\n",
    "MSE = np.square(np.subtract(northing_array,a*easting_array+b)).mean()\n",
    "RMSE = math.sqrt(MSE)"
   ]
  },
  {
   "cell_type": "code",
   "execution_count": 20,
   "id": "e9d3af5f",
   "metadata": {},
   "outputs": [
    {
     "data": {
      "text/plain": [
       "3.545039526727938"
      ]
     },
     "execution_count": 20,
     "metadata": {},
     "output_type": "execute_result"
    }
   ],
   "source": [
    "RMSE"
   ]
  },
  {
   "cell_type": "code",
   "execution_count": 8,
   "id": "1303c2cf",
   "metadata": {},
   "outputs": [
    {
     "data": {
      "text/html": [
       "<div>\n",
       "<style scoped>\n",
       "    .dataframe tbody tr th:only-of-type {\n",
       "        vertical-align: middle;\n",
       "    }\n",
       "\n",
       "    .dataframe tbody tr th {\n",
       "        vertical-align: top;\n",
       "    }\n",
       "\n",
       "    .dataframe thead th {\n",
       "        text-align: right;\n",
       "    }\n",
       "</style>\n",
       "<table border=\"1\" class=\"dataframe\">\n",
       "  <thead>\n",
       "    <tr style=\"text-align: right;\">\n",
       "      <th></th>\n",
       "      <th>Latitude</th>\n",
       "      <th>Longitude</th>\n",
       "      <th>UTM_northing</th>\n",
       "      <th>UTM_easting</th>\n",
       "      <th>Altitude</th>\n",
       "    </tr>\n",
       "  </thead>\n",
       "  <tbody>\n",
       "    <tr>\n",
       "      <th>max</th>\n",
       "      <td>42.313305</td>\n",
       "      <td>-71.101723</td>\n",
       "      <td>4686706.5</td>\n",
       "      <td>326790.65625</td>\n",
       "      <td>73.900002</td>\n",
       "    </tr>\n",
       "    <tr>\n",
       "      <th>min</th>\n",
       "      <td>42.312386</td>\n",
       "      <td>-71.103653</td>\n",
       "      <td>4686600.0</td>\n",
       "      <td>326634.21875</td>\n",
       "      <td>23.900000</td>\n",
       "    </tr>\n",
       "  </tbody>\n",
       "</table>\n",
       "</div>"
      ],
      "text/plain": [
       "      Latitude  Longitude  UTM_northing   UTM_easting   Altitude\n",
       "max  42.313305 -71.101723     4686706.5  326790.65625  73.900002\n",
       "min  42.312386 -71.103653     4686600.0  326634.21875  23.900000"
      ]
     },
     "execution_count": 8,
     "metadata": {},
     "output_type": "execute_result"
    }
   ],
   "source": [
    "gps_df_w.agg(\n",
    "\n",
    "    {\n",
    "\n",
    "        \"Latitude\": ['max', 'min'],\n",
    "\n",
    "        \"Longitude\": [\"max\", 'min'],\n",
    "        \n",
    "        \"UTM_northing\": ['max', 'min'],\n",
    "\n",
    "        \"UTM_easting\": ['max', 'min'],\n",
    "        \n",
    "        \"Altitude\": [\"max\", \"min\"],\n",
    "\n",
    "    }\n",
    "\n",
    ")"
   ]
  },
  {
   "cell_type": "code",
   "execution_count": 38,
   "id": "fda0c39a",
   "metadata": {},
   "outputs": [
    {
     "name": "stdout",
     "output_type": "stream",
     "text": [
      "106.5\n",
      "156.4375\n",
      "Gps distance travelled 189.248359\n",
      "Error in meters 69.248359\n",
      "Error percentage 57.706966\n"
     ]
    }
   ],
   "source": [
    "Northing_distance_travelled = max(gps_df_w['UTM_northing']) - min(gps_df_w['UTM_northing'])\n",
    "Easting_distance_travelled = max(gps_df_w['UTM_easting']) - min(gps_df_w['UTM_easting'])\n",
    "print(Northing_distance_travelled)\n",
    "print(Easting_distance_travelled)\n",
    "Distance_travelled_actual = 120\n",
    "Distance_travelled_gps = math.sqrt(Northing_distance_travelled**2+Easting_distance_travelled**2)\n",
    "\n",
    "#Error in gps data v/s actual data\n",
    "\n",
    "Error = Distance_travelled_gps-Distance_travelled_actual\n",
    "Error_perc = (Error/120)*100\n",
    "\n",
    "print('Gps distance travelled %f'%Distance_travelled_gps)\n",
    "print('Error in meters %f'%Error)\n",
    "print('Error percentage %f'%Error_perc)"
   ]
  }
 ],
 "metadata": {
  "kernelspec": {
   "display_name": "Python 3 (ipykernel)",
   "language": "python",
   "name": "python3"
  },
  "language_info": {
   "codemirror_mode": {
    "name": "ipython",
    "version": 3
   },
   "file_extension": ".py",
   "mimetype": "text/x-python",
   "name": "python",
   "nbconvert_exporter": "python",
   "pygments_lexer": "ipython3",
   "version": "3.8.10"
  }
 },
 "nbformat": 4,
 "nbformat_minor": 5
}
