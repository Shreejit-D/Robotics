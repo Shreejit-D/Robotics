{
 "cells": [
  {
   "cell_type": "code",
   "execution_count": 1,
   "id": "b3a3d82c",
   "metadata": {},
   "outputs": [],
   "source": [
    "import bagpy\n",
    "import openpyxl\n",
    "from bagpy import bagreader\n",
    "import pandas as pd\n",
    "import seaborn as sea\n",
    "import matplotlib.pyplot as plt\n",
    "import numpy as np\n",
    "import math"
   ]
  },
  {
   "cell_type": "code",
   "execution_count": 2,
   "id": "28ad7b16",
   "metadata": {},
   "outputs": [
    {
     "name": "stdout",
     "output_type": "stream",
     "text": [
      "[INFO]  Data folder /home/shreejit/Desktop/eece5554/LAB2/src/gps_rtk_driver/analysis/data/good_data_stationary already exists. Not creating.\n"
     ]
    }
   ],
   "source": [
    "#For stationary data taken in open source\n",
    "data_set = bagreader('/home/shreejit/Desktop/eece5554/LAB2/src/gps_rtk_driver/analysis/data/good_data_stationary.bag')\n",
    "\n",
    "data_set.topic_table\n",
    "\n",
    "gps_good_stat_topic = data_set.message_by_topic(topic = '/gps')\n",
    "gps_a_df = pd.read_csv(gps_good_stat_topic)"
   ]
  },
  {
   "cell_type": "code",
   "execution_count": 30,
   "id": "b936bd9f",
   "metadata": {},
   "outputs": [],
   "source": [
    "# Converting data to numpy arrays for simplicity\n",
    "time_array = gps_a_df['Time'].to_numpy()\n",
    "lat_array = gps_a_df['Latitude'].to_numpy()\n",
    "long_array = gps_a_df['Longitude'].to_numpy()\n",
    "altitude_array = gps_a_df['Altitude'].to_numpy()\n",
    "easting_array = gps_a_df['UTM_easting'].to_numpy()\n",
    "northing_array = gps_a_df['UTM_northing'].to_numpy()\n",
    "quality_array = gps_a_df['Quality'].to_numpy()\n",
    "\n",
    "#Normalizing all values\n",
    "lat_array = lat_array - np.min(lat_array)\n",
    "long_array = long_array - np.min(long_array)\n",
    "altitude_array = altitude_array - np.min(altitude_array)\n",
    "easting_array = easting_array - np.min(easting_array)\n",
    "northing_array = northing_array - np.min(northing_array)\n",
    "time_array = np.around(time_array - 1.66553031e+09 + 1.29205227e-01)  #converting timestamp to start-time\n",
    "\n"
   ]
  },
  {
   "cell_type": "code",
   "execution_count": 32,
   "id": "9f191f3c",
   "metadata": {},
   "outputs": [
    {
     "data": {
      "text/plain": [
       "[<matplotlib.lines.Line2D at 0x7fea1dbb5a60>]"
      ]
     },
     "execution_count": 32,
     "metadata": {},
     "output_type": "execute_result"
    },
    {
     "data": {
      "image/png": "[encoded data removed]",
      "text/plain": [
       "<Figure size 640x480 with 1 Axes>"
      ]
     },
     "metadata": {},
     "output_type": "display_data"
    }
   ],
   "source": [
    "#2-Dimensional plot for stationary\n",
    "\n",
    "fig1, ax = plt.subplots()\n",
    "\n",
    "#Setting labels\n",
    "ax.set_xlabel('time in seconds')\n",
    "ax.set_ylabel('quality')\n",
    "\n",
    "#Setting mean lines\n",
    "# plt.axhline(y=48.775367, color='r', linestyle='-', label='mean')\n",
    "\n",
    "#plots\n",
    "# ax.plot(northing_array,easting_array)\n",
    "# ax.plot(time_array,easting_array)\n",
    "# ax.scatter(northing_array,easting_array)\n",
    "# ax.plot(time_array,altitude_array)\n",
    "ax.plot(time_array,quality_array)\n",
    "#histograms for error distrbution\n",
    "# ax.hist(easting_array, 2)\n",
    "# ax.legend(loc=7)"
   ]
  },
  {
   "cell_type": "code",
   "execution_count": 28,
   "id": "64b887b5",
   "metadata": {},
   "outputs": [
    {
     "data": {
      "text/plain": [
       "0.03125"
      ]
     },
     "execution_count": 28,
     "metadata": {},
     "output_type": "execute_result"
    }
   ],
   "source": [
    "#Statistical summary\n",
    "gps_a_df.agg(\n",
    "\n",
    "    {\n",
    "\n",
    "        \"Latitude\": [\"mean\", \"skew\", \"std\", \"max\", \"min\"],\n",
    "\n",
    "        \"Longitude\": [\"mean\", \"skew\", \"std\", \"max\", \"min\"],\n",
    "        \n",
    "        \"UTM_northing\": [\"mean\", \"skew\", \"std\", \"max\", \"min\"],\n",
    "\n",
    "        \"UTM_easting\": [\"mean\", \"skew\", \"std\", \"max\", \"min\"],\n",
    "        \n",
    "        \"Altitude\": [\"mean\", \"skew\", \"std\", \"max\", \"min\"],\n",
    "\n",
    "    }\n",
    "\n",
    ")\n",
    "\n",
    "# np.mean(easting_array)\n",
    "np.max(easting_array)-np.min(easting_array)"
   ]
  },
  {
   "cell_type": "code",
   "execution_count": 77,
   "id": "f57ee492",
   "metadata": {},
   "outputs": [
    {
     "name": "stdout",
     "output_type": "stream",
     "text": [
      "[INFO]  Data folder /home/shreejit/Desktop/eece5554/LAB2/src/data/good_data_moving already exists. Not creating.\n"
     ]
    }
   ],
   "source": [
    "#for moving data taken in open source\n",
    "data_set = bagreader('/home/shreejit/Desktop/eece5554/LAB2/src/gps_rtk_driver/analysis/data/good_data_moving.bag')\n",
    "\n",
    "data_set.topic_table\n",
    "gps_good_moving_topic = data_set.message_by_topic(topic = '/gps')\n",
    "gps_b_df = pd.read_csv(gps_good_moving_topic)\n",
    "gps_b_df = gps_b_df[10:]"
   ]
  },
  {
   "cell_type": "code",
   "execution_count": 78,
   "id": "1a144c6d",
   "metadata": {},
   "outputs": [],
   "source": [
    "# Converting data to numpy arrays for simplicity\n",
    "time_array = gps_b_df['Time'].to_numpy()\n",
    "lat_array = gps_b_df['Latitude'].to_numpy()\n",
    "long_array = gps_b_df['Longitude'].to_numpy()\n",
    "altitude_array = gps_b_df['Altitude'].to_numpy()\n",
    "easting_array = gps_b_df['UTM_easting'].to_numpy()\n",
    "northing_array = gps_b_df['UTM_northing'].to_numpy()\n",
    "\n",
    "#Normalizing all values\n",
    "lat_array = lat_array - np.min(lat_array)\n",
    "long_array = long_array - np.min(long_array)\n",
    "altitude_array = altitude_array - np.min(altitude_array)\n",
    "easting_array = easting_array - np.min(easting_array)\n",
    "northing_array = northing_array - np.min(northing_array)\n",
    "time_array = np.around(time_array - 1.66553031e+09 + 1.29205227e-01 - 806)  #converting timestamp to start-time\n",
    "\n",
    "#Create new pandas with normalized values\n",
    "# d2 = {'Time': time_array, 'Easting': easting_array, 'Northing': northing_array}\n",
    "# df2 = pd.DataFrame(d2)\n",
    "# df2.to_excel('Stationary_data_excel.xlsx')"
   ]
  },
  {
   "cell_type": "code",
   "execution_count": 83,
   "id": "248ea8ad",
   "metadata": {},
   "outputs": [
    {
     "data": {
      "text/plain": [
       "0.36077082481475087"
      ]
     },
     "execution_count": 83,
     "metadata": {},
     "output_type": "execute_result"
    },
    {
     "data": {
      "image/png": "[encoded data removed]",
      "text/plain": [
       "<Figure size 640x480 with 1 Axes>"
      ]
     },
     "metadata": {},
     "output_type": "display_data"
    }
   ],
   "source": [
    "#2-Dimensional plot for stationary\n",
    "\n",
    "fig1, ax = plt.subplots()\n",
    "\n",
    "#Setting labels\n",
    "# ax.set_xlabel('time in dec-secs')\n",
    "ax.set_ylabel('altitude distance in meters')\n",
    "ax.set_xlabel('time in seconds')\n",
    "\n",
    "#Setting mean lines\n",
    "# plt.axhline(y=48.775367, color='r', linestyle='-', label='mean')\n",
    "\n",
    "#plots\n",
    "# ax.plot(time_array,northing_array)\n",
    "# ax.plot(time_array,easting_array)\n",
    "ax.plot(time_array,altitude_array)\n",
    "# ax.plot(time_array,altitude_array)\n",
    "\n",
    "#histograms for error distrbution\n",
    "# ax.hist(Northing_error, 10)\n",
    "# ax.legend(loc=7)\n",
    "\n",
    "#polyfit for altitude line\n",
    "bx , by = np.polyfit(time_array,altitude_array,1)\n",
    "ax.plot(time_array, bx*time_array+by)\n",
    "\n",
    "MSE1 = np.square(np.subtract(altitude_array,bx*time_array+by)).mean()\n",
    "RMSE1 = math.sqrt(MSE1)\n",
    "RMSE1\n",
    "\n",
    "#Creating bags for 4 lines -\n",
    "#(0 to 52) for first slope ; (57 to 82) for second slope ; (85 to 141) for third slope ; (144 to 166) for forth line\n",
    "# p1 = np.polyfit(northing_array[:52],easting_array[:52],1)\n",
    "# a1 , b1 = p1\n",
    "# ax.plot(northing_array[:52], a1*northing_array[:52]+b1, label = 'slope1')\n",
    "\n",
    "# p2 = np.polyfit(northing_array[57:82],easting_array[57:82],1)\n",
    "# a2 , b2 = p2\n",
    "# ax.plot(northing_array[57:82], a2*northing_array[57:82]+b2, label = 'slope2')\n",
    "\n",
    "# p3 = np.polyfit(northing_array[85:141],easting_array[85:141],1)\n",
    "# a3, b3 = p3\n",
    "# ax.plot(northing_array[85:141], a3*northing_array[85:141]+b3, label = 'slope3')\n",
    "\n",
    "# p4 = np.polyfit(northing_array[144:166],easting_array[144:166],1)\n",
    "# a4, b4 = p4\n",
    "# ax.plot(northing_array[144:166], a4*northing_array[144:166]+b4, label = 'slope4')\n",
    "\n",
    "# ax.legend()"
   ]
  },
  {
   "cell_type": "code",
   "execution_count": 35,
   "id": "2b5692b0",
   "metadata": {},
   "outputs": [
    {
     "data": {
      "text/plain": [
       "0.2286351291037935"
      ]
     },
     "execution_count": 35,
     "metadata": {},
     "output_type": "execute_result"
    }
   ],
   "source": [
    "#Finding RMSE for each slope and sample -\n",
    "MSE1 = np.square(np.subtract(easting_array[:52],a1*northing_array[:52]+b1)).mean()\n",
    "RMSE1 = math.sqrt(MSE1)\n",
    "RMSE1"
   ]
  },
  {
   "cell_type": "code",
   "execution_count": 36,
   "id": "c32e20e8",
   "metadata": {},
   "outputs": [
    {
     "data": {
      "text/plain": [
       "0.17844762238090395"
      ]
     },
     "execution_count": 36,
     "metadata": {},
     "output_type": "execute_result"
    }
   ],
   "source": [
    "MSE2 = np.square(np.subtract(easting_array[57:82],a2*northing_array[57:82]+b2)).mean()\n",
    "RMSE2 = math.sqrt(MSE2)\n",
    "RMSE2"
   ]
  },
  {
   "cell_type": "code",
   "execution_count": 37,
   "id": "3ecd76cf",
   "metadata": {},
   "outputs": [
    {
     "data": {
      "text/plain": [
       "0.2102266112869591"
      ]
     },
     "execution_count": 37,
     "metadata": {},
     "output_type": "execute_result"
    }
   ],
   "source": [
    "MSE3 = np.square(np.subtract(easting_array[85:141],a3*northing_array[85:141]+b3)).mean()\n",
    "RMSE3 = math.sqrt(MSE3)\n",
    "RMSE3"
   ]
  },
  {
   "cell_type": "code",
   "execution_count": 38,
   "id": "1f571310",
   "metadata": {},
   "outputs": [
    {
     "data": {
      "text/plain": [
       "0.16092058314725383"
      ]
     },
     "execution_count": 38,
     "metadata": {},
     "output_type": "execute_result"
    }
   ],
   "source": [
    "MSE4 = np.square(np.subtract(easting_array[144:166],a4*northing_array[144:166]+b4)).mean()\n",
    "RMSE4 = math.sqrt(MSE4)\n",
    "RMSE4"
   ]
  },
  {
   "cell_type": "code",
   "execution_count": 39,
   "id": "ac288d41",
   "metadata": {},
   "outputs": [
    {
     "data": {
      "text/plain": [
       "0.1945574864797276"
      ]
     },
     "execution_count": 39,
     "metadata": {},
     "output_type": "execute_result"
    }
   ],
   "source": [
    "mean_RMSE = (RMSE1+RMSE2+RMSE3+RMSE4)/4\n",
    "\n",
    "mean_RMSE"
   ]
  },
  {
   "cell_type": "code",
   "execution_count": 33,
   "id": "4762f9bf",
   "metadata": {},
   "outputs": [
    {
     "name": "stdout",
     "output_type": "stream",
     "text": [
      "[INFO]  Data folder /home/shreejit/Desktop/eece5554/LAB2/src/data/bad_data_stationary already exists. Not creating.\n"
     ]
    }
   ],
   "source": [
    "#for stationary data taken infront of ISEC\n",
    "data_set = bagreader('/home/shreejit/Desktop/eece5554/LAB2/src/gps_rtk_driver/analysis/data/bad_data_stationary.bag')\n",
    "\n",
    "data_set.topic_table\n",
    "gps_good_moving_topic = data_set.message_by_topic(topic = '/gps')\n",
    "gps_b_df = pd.read_csv(gps_good_moving_topic)"
   ]
  },
  {
   "cell_type": "code",
   "execution_count": 34,
   "id": "88fcbe7a",
   "metadata": {},
   "outputs": [],
   "source": [
    "# Converting data to numpy arrays for simplicity\n",
    "time_array = gps_b_df['Time'].to_numpy()\n",
    "lat_array = gps_b_df['Latitude'].to_numpy()\n",
    "long_array = gps_b_df['Longitude'].to_numpy()\n",
    "altitude_array = gps_b_df['Altitude'].to_numpy()\n",
    "easting_array = gps_b_df['UTM_easting'].to_numpy()\n",
    "northing_array = gps_b_df['UTM_northing'].to_numpy()\n",
    "quality_array = gps_b_df['Quality'].to_numpy()\n",
    "\n",
    "#Normalizing all values\n",
    "lat_array = lat_array - np.min(lat_array)\n",
    "long_array = long_array - np.min(long_array)\n",
    "altitude_array = altitude_array - np.min(altitude_array)\n",
    "easting_array = easting_array - np.min(easting_array)\n",
    "northing_array = northing_array - np.min(northing_array)\n",
    "time_array = np.around(time_array - 1.66553031e+09 + 1.29205227e-01 - 806)  #converting timestamp to start-time"
   ]
  },
  {
   "cell_type": "code",
   "execution_count": 35,
   "id": "deebb5c7",
   "metadata": {},
   "outputs": [
    {
     "data": {
      "text/plain": [
       "(array([  1., 164., 274., 210.]),\n",
       " array([0.       , 0.0234375, 0.046875 , 0.0703125, 0.09375  ]),\n",
       " <a list of 4 Patch objects>)"
      ]
     },
     "execution_count": 35,
     "metadata": {},
     "output_type": "execute_result"
    },
    {
     "data": {
      "image/png": "[encoded data removed]",
      "text/plain": [
       "<Figure size 640x480 with 1 Axes>"
      ]
     },
     "metadata": {},
     "output_type": "display_data"
    }
   ],
   "source": [
    "#2-Dimensional plot for stationary\n",
    "\n",
    "fig1, ax = plt.subplots()\n",
    "\n",
    "#Setting labels\n",
    "# ax.set_xlabel('time in dec-secs')\n",
    "ax.set_ylabel('Frequency')\n",
    "ax.set_xlabel('Easting in meters {bins}')\n",
    "\n",
    "#Setting mean lines\n",
    "# plt.axhline(y=48.775367, color='r', linestyle='-', label='mean')\n",
    "\n",
    "#plots\n",
    "# ax.plot(time_array,northing_array)\n",
    "# ax.plot(time_array,quality_array)\n",
    "# ax.scatter(northing_array,easting_array)\n",
    "# ax.plot(time_array,altitude_array)\n",
    "#histograms for error distrbution\n",
    "ax.hist(easting_array, 4)\n",
    "# ax.legend(loc=7)"
   ]
  },
  {
   "cell_type": "code",
   "execution_count": 39,
   "id": "cb2d2942",
   "metadata": {},
   "outputs": [
    {
     "data": {
      "text/plain": [
       "0.09375"
      ]
     },
     "execution_count": 39,
     "metadata": {},
     "output_type": "execute_result"
    }
   ],
   "source": [
    "#Statistical summary\n",
    "gps_b_df.agg(\n",
    "\n",
    "    {\n",
    "\n",
    "        \"Latitude\": [\"mean\", \"skew\", \"std\", \"max\", \"min\"],\n",
    "\n",
    "        \"Longitude\": [\"mean\", \"skew\", \"std\", \"max\", \"min\"],\n",
    "        \n",
    "        \"UTM_northing\": [\"mean\", \"skew\", \"std\", \"max\", \"min\"],\n",
    "\n",
    "        \"UTM_easting\": [\"mean\", \"skew\", \"std\", \"max\", \"min\"],\n",
    "        \n",
    "        \"Altitude\": [\"mean\", \"skew\", \"std\", \"max\", \"min\"],\n",
    "\n",
    "    }\n",
    "\n",
    ")\n",
    "\n",
    "# np.mean(easting_array)\n",
    "# np.mean(altitude_array)\n",
    "np.max(easting_array)-np.min(easting_array)"
   ]
  },
  {
   "cell_type": "code",
   "execution_count": 3,
   "id": "c2f60fcd",
   "metadata": {},
   "outputs": [
    {
     "name": "stdout",
     "output_type": "stream",
     "text": [
      "[INFO]  Data folder /home/shreejit/Desktop/eece5554/LAB2/src/gps_rtk_driver/analysis/data/bad_moving_data3.bag.ac already exists. Not creating.\n"
     ]
    }
   ],
   "source": [
    "#for moving data taken infront of ISEC\n",
    "data_set = bagreader('/home/shreejit/Desktop/eece5554/LAB2/src/gps_rtk_driver/analysis/data/bad_moving_data3.bag.active')\n",
    "\n",
    "data_set.topic_table\n",
    "gps_good_moving_topic = data_set.message_by_topic(topic = '/gps')\n",
    "gps_b2_df = pd.read_csv(gps_good_moving_topic)\n",
    "gps_b_df = gps_b2_df[26:]"
   ]
  },
  {
   "cell_type": "code",
   "execution_count": 86,
   "id": "c8ccd988",
   "metadata": {},
   "outputs": [],
   "source": [
    "# Converting data to numpy arrays for simplicity\n",
    "time_array = gps_b_df['Time'].to_numpy()\n",
    "lat_array = gps_b_df['Latitude'].to_numpy()\n",
    "long_array = gps_b_df['Longitude'].to_numpy()\n",
    "altitude_array = gps_b_df['Altitude'].to_numpy()\n",
    "easting_array = gps_b_df['UTM_easting'].to_numpy()\n",
    "northing_array = gps_b_df['UTM_northing'].to_numpy()\n",
    "quality_array = gps_b_df['Quality'].to_numpy()\n",
    "\n",
    "#Normalizing all values\n",
    "lat_array = lat_array - np.min(lat_array)\n",
    "long_array = long_array - np.min(long_array)\n",
    "altitude_array = altitude_array - np.min(altitude_array)\n",
    "easting_array = easting_array - np.min(easting_array)\n",
    "northing_array = northing_array - np.min(northing_array)\n",
    "time_array = np.around(time_array - 1.66602662e+09 - 3 - 26)  #converting timestamp to start-time\n",
    "\n",
    "d3 = {'Time': time_array, 'Easting': easting_array, 'Northing': northing_array}\n",
    "df3 = pd.DataFrame(d3)\n",
    "df3.to_excel('MDB_excel.xlsx')"
   ]
  },
  {
   "cell_type": "code",
   "execution_count": 87,
   "id": "bee6ef98",
   "metadata": {},
   "outputs": [
    {
     "data": {
      "text/plain": [
       "1.2162707549717007"
      ]
     },
     "execution_count": 87,
     "metadata": {},
     "output_type": "execute_result"
    },
    {
     "data": {
      "image/png": "[encoded data removed]",
      "text/plain": [
       "<Figure size 640x480 with 1 Axes>"
      ]
     },
     "metadata": {},
     "output_type": "display_data"
    }
   ],
   "source": [
    "#2-Dimensional plot for stationary\n",
    "\n",
    "fig1, ax = plt.subplots()\n",
    "\n",
    "#Setting labels\n",
    "# ax.set_xlabel('time in secs')\n",
    "ax.set_ylabel('altitude in meters')\n",
    "ax.set_xlabel('time in seconds')\n",
    "# ax.set_ylabel('quality factor unit')\n",
    "\n",
    "#Setting mean lines\n",
    "# plt.axhline(y=48.775367, color='r', linestyle='-', label='mean')\n",
    "\n",
    "#plots\n",
    "# ax.plot(time_array,northing_array)\n",
    "# ax.plot(time_array,easting_array)\n",
    "ax.plot(time_array,altitude_array)\n",
    "# ax.plot(time_array,altitude_array)\n",
    "\n",
    "#polyfit for altitude line\n",
    "bx , by = np.polyfit(time_array,altitude_array,1)\n",
    "ax.plot(time_array, bx*time_array+by)\n",
    "\n",
    "MSE1 = np.square(np.subtract(altitude_array,bx*time_array+by)).mean()\n",
    "RMSE1 = math.sqrt(MSE1)\n",
    "RMSE1\n",
    "\n",
    "\n",
    "#plot of quality v/s time\n",
    "# ax.plot(time_array,quality_array)\n",
    "#histograms for error distrbution\n",
    "# ax.hist(Northing_error, 10)\n",
    "# ax.legend(loc=7)\n",
    "\n",
    "#Creating bags for 4 lines -\n",
    "#(0 to 24) for first slope ; (26 to 57) for second slope ; (58 to 82) for third slope ; (83 to 116) for forth line\n",
    "# p1 = np.polyfit(northing_array[:24],easting_array[:24],1)\n",
    "# a1 , b1 = p1\n",
    "# ax.plot(northing_array[:24], a1*northing_array[:24]+b1, label = 'slope1')\n",
    "\n",
    "# p2 = np.polyfit(northing_array[26:57],easting_array[26:57],1)\n",
    "# a2 , b2 = p2\n",
    "# ax.plot(northing_array[26:57], a2*northing_array[26:57]+b2, label = 'slope2')\n",
    "\n",
    "# p3 = np.polyfit(northing_array[58:82],easting_array[58:82],1)\n",
    "# a3, b3 = p3\n",
    "# ax.plot(northing_array[58:82], a3*northing_array[58:82]+b3, label = 'slope3')\n",
    "\n",
    "# p4 = np.polyfit(northing_array[83:116],easting_array[83:116],1)\n",
    "# a4, b4 = p4\n",
    "# ax.plot(northing_array[83:116], a4*northing_array[83:116]+b4, label = 'slope4')\n",
    "\n",
    "# ax.legend()"
   ]
  },
  {
   "cell_type": "code",
   "execution_count": 72,
   "id": "a7d08432",
   "metadata": {},
   "outputs": [
    {
     "data": {
      "text/plain": [
       "0.460465086269652"
      ]
     },
     "execution_count": 72,
     "metadata": {},
     "output_type": "execute_result"
    }
   ],
   "source": [
    "#Finding RMSE for each slope and sample -\n",
    "MSE1 = np.square(np.subtract(easting_array[:24],a1*northing_array[:24]+b1)).mean()\n",
    "RMSE1 = math.sqrt(MSE1)\n",
    "RMSE1"
   ]
  },
  {
   "cell_type": "code",
   "execution_count": 73,
   "id": "e24175b9",
   "metadata": {},
   "outputs": [
    {
     "data": {
      "text/plain": [
       "0.8599529012455769"
      ]
     },
     "execution_count": 73,
     "metadata": {},
     "output_type": "execute_result"
    }
   ],
   "source": [
    "MSE2 = np.square(np.subtract(easting_array[26:57],a2*northing_array[26:57]+b2)).mean()\n",
    "RMSE2 = math.sqrt(MSE2)\n",
    "RMSE2"
   ]
  },
  {
   "cell_type": "code",
   "execution_count": 74,
   "id": "e0ef3c45",
   "metadata": {},
   "outputs": [
    {
     "data": {
      "text/plain": [
       "0.10662079847275881"
      ]
     },
     "execution_count": 74,
     "metadata": {},
     "output_type": "execute_result"
    }
   ],
   "source": [
    "MSE3 = np.square(np.subtract(easting_array[58:82],a3*northing_array[58:82]+b3)).mean()\n",
    "RMSE3 = math.sqrt(MSE3)\n",
    "RMSE3"
   ]
  },
  {
   "cell_type": "code",
   "execution_count": 75,
   "id": "0d891f66",
   "metadata": {},
   "outputs": [
    {
     "data": {
      "text/plain": [
       "0.2943241391851498"
      ]
     },
     "execution_count": 75,
     "metadata": {},
     "output_type": "execute_result"
    }
   ],
   "source": [
    "MSE4 = np.square(np.subtract(easting_array[83:116],a4*northing_array[83:116]+b4)).mean()\n",
    "RMSE4 = math.sqrt(MSE4)\n",
    "RMSE4"
   ]
  },
  {
   "cell_type": "code",
   "execution_count": 76,
   "id": "2e399ab4",
   "metadata": {},
   "outputs": [
    {
     "data": {
      "text/plain": [
       "0.4303407312932844"
      ]
     },
     "execution_count": 76,
     "metadata": {},
     "output_type": "execute_result"
    }
   ],
   "source": [
    "mean_RMSE = (RMSE1+RMSE2+RMSE3+RMSE4)/4\n",
    "mean_RMSE"
   ]
  },
  {
   "cell_type": "code",
   "execution_count": null,
   "id": "6183958d",
   "metadata": {},
   "outputs": [],
   "source": [
    "#Statistical summary\n",
    "gps_b_df.agg(\n",
    "\n",
    "    {\n",
    "\n",
    "        \"Latitude\": [\"mean\", \"skew\", \"std\", \"max\", \"min\"],\n",
    "\n",
    "        \"Longitude\": [\"mean\", \"skew\", \"std\", \"max\", \"min\"],\n",
    "        \n",
    "        \"UTM_northing\": [\"mean\", \"skew\", \"std\", \"max\", \"min\"],\n",
    "\n",
    "        \"UTM_easting\": [\"mean\", \"skew\", \"std\", \"max\", \"min\"],\n",
    "        \n",
    "        \"Altitude\": [\"mean\", \"skew\", \"std\", \"max\", \"min\"],\n",
    "\n",
    "    }\n",
    "\n",
    ")"
   ]
  }
 ],
 "metadata": {
  "kernelspec": {
   "display_name": "Python 3 (ipykernel)",
   "language": "python",
   "name": "python3"
  },
  "language_info": {
   "codemirror_mode": {
    "name": "ipython",
    "version": 3
   },
   "file_extension": ".py",
   "mimetype": "text/x-python",
   "name": "python",
   "nbconvert_exporter": "python",
   "pygments_lexer": "ipython3",
   "version": "3.8.10"
  }
 },
 "nbformat": 4,
 "nbformat_minor": 5
}
